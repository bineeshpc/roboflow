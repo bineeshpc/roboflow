{
  "nbformat": 4,
  "nbformat_minor": 0,
  "metadata": {
    "colab": {
      "name": "context_rcnn_experiments.ipynb",
      "provenance": []
    },
    "kernelspec": {
      "name": "python3",
      "display_name": "Python 3"
    }
  },
  "cells": [
    {
      "cell_type": "code",
      "metadata": {
        "id": "9oMSIuzudeAR",
        "outputId": "666aff3f-5c9a-48be-a5fb-cc0ebec52054",
        "colab": {
          "base_uri": "https://localhost:8080/",
          "height": 35
        }
      },
      "source": [
        "pwd"
      ],
      "execution_count": 3,
      "outputs": [
        {
          "output_type": "execute_result",
          "data": {
            "text/plain": [
              "'C:\\\\Users\\\\M1057101\\\\workspace\\\\roboflow'"
            ]
          },
          "metadata": {
            "tags": []
          },
          "execution_count": 3
        }
      ]
    },
    {
      "cell_type": "code",
      "metadata": {
        "id": "Ttd7BEGLeHF6",
        "outputId": "aa9642e0-71d7-4edd-9ff1-28db593a3862",
        "colab": {
          "base_uri": "https://localhost:8080/",
          "height": 35
        }
      },
      "source": [
        "%cd context_rcnn/"
      ],
      "execution_count": 6,
      "outputs": [
        {
          "output_type": "stream",
          "text": [
            "C:\\Users\\M1057101\\workspace\\roboflow\\context_rcnn\n"
          ],
          "name": "stdout"
        }
      ]
    },
    {
      "cell_type": "code",
      "metadata": {
        "id": "DRcyrDpWQ9Ls",
        "outputId": "0bb5ad51-4970-4d00-e3d7-81b98db01d54",
        "colab": {
          "base_uri": "https://localhost:8080/",
          "height": 372
        }
      },
      "source": [
        "!git clone https://github.com/tensorflow/models.git"
      ],
      "execution_count": 7,
      "outputs": [
        {
          "output_type": "stream",
          "text": [
            "Cloning into 'models'...\n",
            "Updating files:  83% (1744/2101)\n",
            "Updating files:  84% (1765/2101)\n",
            "Updating files:  85% (1786/2101)\n",
            "Updating files:  86% (1807/2101)\n",
            "Updating files:  87% (1828/2101)\n",
            "Updating files:  88% (1849/2101)\n",
            "Updating files:  89% (1870/2101)\n",
            "Updating files:  90% (1891/2101)\n",
            "Updating files:  91% (1912/2101)\n",
            "Updating files:  92% (1933/2101)\n",
            "Updating files:  93% (1954/2101)\n",
            "Updating files:  94% (1975/2101)\n",
            "Updating files:  95% (1996/2101)\n",
            "Updating files:  96% (2017/2101)\n",
            "Updating files:  97% (2038/2101)\n",
            "Updating files:  98% (2059/2101)\n",
            "Updating files:  99% (2080/2101)\n",
            "Updating files: 100% (2101/2101)\n",
            "Updating files: 100% (2101/2101), done.\n"
          ],
          "name": "stderr"
        }
      ]
    },
    {
      "cell_type": "code",
      "metadata": {
        "id": "7cPGl5zCfanL",
        "outputId": "f95eaab8-fc1a-47af-e51f-d231ff6eba4a",
        "colab": {
          "base_uri": "https://localhost:8080/",
          "height": 144
        }
      },
      "source": [
        "!pip install tf_slim"
      ],
      "execution_count": 8,
      "outputs": [
        {
          "output_type": "stream",
          "text": [
            "Collecting tf_slim\n",
            "  Downloading tf_slim-1.1.0-py2.py3-none-any.whl (352 kB)\n",
            "Requirement already satisfied: absl-py>=0.2.2 in c:\\users\\m1057101\\appdata\\roaming\\python\\python37\\site-packages (from tf_slim) (0.9.0)\n",
            "Requirement already satisfied: six in c:\\users\\m1057101\\anaconda3\\lib\\site-packages (from absl-py>=0.2.2->tf_slim) (1.12.0)\n",
            "Installing collected packages: tf-slim\n",
            "Successfully installed tf-slim-1.1.0\n"
          ],
          "name": "stdout"
        }
      ]
    },
    {
      "cell_type": "code",
      "metadata": {
        "id": "11a-RbiDh5hR"
      },
      "source": [
        "print(1)"
      ],
      "execution_count": null,
      "outputs": []
    }
  ]
}